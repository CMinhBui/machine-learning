{
 "cells": [
  {
   "cell_type": "markdown",
   "metadata": {},
   "source": [
    "# K láng giềng gần nhất (K-Nearest Neighbor)\n",
    "\n",
    "Bộ phân lớp kNN bao gồm 2 giai đoạn:\n",
    "- Trong quá trình huấn luyện, bộ phân lớp lấy dữ liệu huấn luyện và ghi nhớ chúng.\n",
    "- Trong quá trình kiểm tra, kNN phân lớp từng dữ liệu kiểm tra bằng cách so sánh dữ liệu đó với tất cả các dữ liệu huấn luyện và tìm ra nhãn của `k ví dụ gần nhất`.\n",
    "- Giá trị của tham số `k` được kiểm định chéo.\n",
    "\n",
    "Trong bài tập này, bạn sẽ lần lượt cài đặt từng bước này và hiểu được cách xây dựng một bộ phân lớp hoàn chỉnh."
   ]
  },
  {
   "cell_type": "code",
   "execution_count": 3,
   "metadata": {},
   "outputs": [
    {
     "name": "stdout",
     "output_type": "stream",
     "text": [
      "The autoreload extension is already loaded. To reload it, use:\n",
      "  %reload_ext autoreload\n"
     ]
    }
   ],
   "source": [
    "# Import một số thư viện cần thiết.\n",
    "import random\n",
    "import numpy as np\n",
    "from sklearn import datasets\n",
    "from sklearn.model_selection import train_test_split \n",
    "import matplotlib.pyplot as plt\n",
    "\n",
    "# Sử dụng một mẹo nhỏ để vẽ hình trên cùng một dòng thay vì mở cửa sổ mới\n",
    "%matplotlib inline\n",
    "plt.rcParams['figure.figsize'] = (10.0, 8.0) # đặt kích thước mặc định cho hình\n",
    "plt.rcParams['image.interpolation'] = 'nearest'\n",
    "plt.rcParams['image.cmap'] = 'gray'\n",
    "\n",
    "# Một mẹo nhỏ để notebook tự load lại các module bên ngoài;\n",
    "# xem thêm tại http://stackoverflow.com/questions/1907993/autoreload-of-modules-in-ipython\n",
    "%load_ext autoreload\n",
    "%autoreload 2"
   ]
  },
  {
   "cell_type": "code",
   "execution_count": 4,
   "metadata": {},
   "outputs": [
    {
     "name": "stdout",
     "output_type": "stream",
     "text": [
      "Training data shape:  (120, 4)\n",
      "Training labels shape:  (120,)\n",
      "Test data shape:  (30, 4)\n",
      "Test labels shape:  (30,)\n"
     ]
    }
   ],
   "source": [
    "# Tải dữ liệu hoa cẩm chướng từ Scikit-learn.\n",
    "iris = datasets.load_iris()\n",
    "X_train, X_test, y_train, y_test = train_test_split(iris.data, \\\n",
    "                                                    iris.target, test_size=0.2)\n",
    "\n",
    "# In ra kích thước dữ liệu huấn luyện và dữ liệu kiểm tra như một \n",
    "# phép thử đơn giản.\n",
    "print('Training data shape: ', X_train.shape)\n",
    "print('Training labels shape: ', y_train.shape)\n",
    "print('Test data shape: ', X_test.shape)\n",
    "print('Test labels shape: ', y_test.shape)"
   ]
  },
  {
   "cell_type": "code",
   "execution_count": 5,
   "metadata": {},
   "outputs": [],
   "source": [
    "from k_nearest_neighbor import KNearestNeighbor\n",
    "\n",
    "# Khởi tạo bộ phân lớp kNN. \n",
    "# Ghi nhớ rằng quá trình huấn luyện kNN chỉ đơn giản là ghi  nhớ dữ liệu. \n",
    "classifier = KNearestNeighbor()\n",
    "classifier.train(X_train, y_train)"
   ]
  },
  {
   "cell_type": "markdown",
   "metadata": {},
   "source": [
    "Bây giờ chúng ta cần cài đặt giai đoạn thứ hai: Phân loại dữ liệu kiểm tra. Chúng ta có thể chia giai đoạn này thành hai bước: \n",
    "\n",
    "1. Đầu tiên, chúng ta phải tính được khoảng cách giữa tất cả các dữ liệu kiểm tra so với tất cả các dữ liệu huấn luyện. \n",
    "2. Với những khoảng cách đó, tìm ra `k láng giềng gần nhất ` cho mỗi dữ liệu và bỏ phiếu cho nhãn của dữ liệu đó.\n",
    "\n",
    "Hãy bắt đầu với việc tính ma trận khonagr cách giữa tất cả các dữ liệu huấn luyện và kiểm tra. Ví dụ nếu có **Ntr** dữ liệu huấn luyện và **Nte** dữ liệu kiểm tra, kết quả thu được là ma trận kích thước **Nte x Ntr** với mỗi phần tử (i,j) là khoảng cách giữa dữ liệu kiểm tra i và dữ liệu kiểm tra j.\n",
    "\n",
    "Đầu tiên, mở `k_nearest_neighbor.py` và cài đặt hàm `compute_distances_two_loops` sử dụng 2 vòng lặp (không hiệu quả) cho mỗi cặp dữ liệu (kiểm tra, huấn luyện) và tính khoảng ma trận khoảng cách cho từng phần tử một."
   ]
  },
  {
   "cell_type": "code",
   "execution_count": 6,
   "metadata": {},
   "outputs": [
    {
     "name": "stdout",
     "output_type": "stream",
     "text": [
      "[[1.63401346 4.40113622 0.33166248 4.06816912 4.08656335 4.22137418\n",
      "  1.06301458 0.53851648 0.88317609 4.69041576]\n",
      " [1.23693169 3.92300905 0.92195445 3.43656806 3.45832329 3.51852242\n",
      "  1.47986486 0.75498344 1.18321596 4.10609303]\n",
      " [2.01494417 4.5607017  1.00995049 4.13279566 4.11703777 4.17252921\n",
      "  1.03923048 0.92736185 1.13578167 4.81352262]\n",
      " [0.51961524 3.04795013 1.30766968 2.94448637 2.9866369  3.31963853\n",
      "  2.44335834 1.05356538 0.89442719 3.43220046]\n",
      " [2.77488739 0.93808315 4.07185461 0.34641016 0.33166248 1.04403065\n",
      "  4.99199359 3.60277671 3.52845575 0.72801099]\n",
      " [2.92232784 1.4        4.17851648 0.34641016 0.2236068  0.55677644\n",
      "  5.00799361 3.7067506  3.68646172 0.97467943]\n",
      " [2.87054002 1.67928556 4.0348482  0.678233   0.5        0.45825757\n",
      "  4.80624594 3.54118624 3.51994318 1.36747943]\n",
      " [2.78747197 1.53948043 4.02616443 0.47958315 0.37416574 0.50990195\n",
      "  4.82182538 3.56230263 3.55246393 1.17473401]\n",
      " [0.54772256 2.80356915 1.59373775 2.46981781 2.49599679 2.72946881\n",
      "  2.53377189 1.21655251 1.22065556 3.06431069]\n",
      " [3.15277655 5.85320425 1.74928557 5.50090902 5.49272246 5.56147462\n",
      "  0.96953597 2.03469899 2.17025344 6.15548536]]\n"
     ]
    }
   ],
   "source": [
    "# Mở k_nearest_neighbor.py và cài đặt compute_distances_two_loops.\n",
    "\n",
    "# Kiểm tra phần cài đặt của bạn:\n",
    "dists = classifier.compute_distances_two_loops(X_test)\n",
    "print(dists[:10, :10])"
   ]
  },
  {
   "cell_type": "code",
   "execution_count": 19,
   "metadata": {},
   "outputs": [
    {
     "data": {
      "image/png": "[encoded data removed]",
      "text/plain": [
       "<matplotlib.figure.Figure at 0x7f3d8ef9ec18>"
      ]
     },
     "metadata": {},
     "output_type": "display_data"
    }
   ],
   "source": [
    "# Chúng ta có thể biểu diễn ma trận khoảng cách: mỗi hàng là một dữ liệu kiểm tra\n",
    "# và khoảng cách của nó đến các dữ liệu huấn luyện\n",
    "plt.imshow(dists, interpolation='none')\n",
    "plt.show()"
   ]
  },
  {
   "cell_type": "code",
   "execution_count": 20,
   "metadata": {},
   "outputs": [
    {
     "name": "stdout",
     "output_type": "stream",
     "text": [
      "Got 29 / 30 correct => accuracy: 0.966667\n"
     ]
    }
   ],
   "source": [
    "# Bây giờ, cài đặt hàm predict_labels và chạy code dưới đây:\n",
    "# Chúng ta dùng k = 1 (Số lượng hàng xóm gần nhất).\n",
    "num_test = X_test.shape[0]\n",
    "y_test_pred = classifier.predict_labels(dists, k=1)\n",
    "\n",
    "# Tính ra in ra tỉ lệ những ví dụ dự đoán đúng\n",
    "num_correct = np.sum(y_test_pred == y_test)\n",
    "accuracy = float(num_correct) / num_test\n",
    "print('Got %d / %d correct => accuracy: %f' % (num_correct, num_test, accuracy))"
   ]
  },
  {
   "cell_type": "markdown",
   "metadata": {},
   "source": [
    "Bạn nên hi vọng đạt được kết quả xấp xỉ 30%. Giờ hãy thử với số láng giềng nhiều hơn, k = 5:"
   ]
  },
  {
   "cell_type": "code",
   "execution_count": 21,
   "metadata": {},
   "outputs": [
    {
     "name": "stdout",
     "output_type": "stream",
     "text": [
      "Got 29 / 30 correct => accuracy: 0.966667\n"
     ]
    }
   ],
   "source": [
    "y_test_pred = classifier.predict_labels(dists, k=5)\n",
    "num_correct = np.sum(y_test_pred == y_test)\n",
    "accuracy = float(num_correct) / num_test\n",
    "print('Got %d / %d correct => accuracy: %f' % (num_correct, num_test, accuracy))"
   ]
  },
  {
   "cell_type": "markdown",
   "metadata": {},
   "source": [
    "Bạn nên hi vọng kết quả đạt được tốt hơn so với k = 1."
   ]
  },
  {
   "cell_type": "code",
   "execution_count": 9,
   "metadata": {},
   "outputs": [
    {
     "name": "stdout",
     "output_type": "stream",
     "text": [
      "Difference was: 0.000000\n",
      "Good! The distance matrices are the same\n"
     ]
    }
   ],
   "source": [
    "# Giờ hãy thử tăng tốc tính toán bằng cách vectorize một phần với một vòng lặp.\n",
    "# Cài đặt hàm compute_distances_one_loop và chạy code sau:\n",
    "dists_one = classifier.compute_distances_one_loop(X_test)\n",
    "\n",
    "# Để đảm bảo bạn cài đặt đúng, chúng ta so sánh kết quả với cài đặt ngây thơ trước\n",
    "# đó (2 vòng lặp). Có rất nhiều cách để kiểm tra hai ma trận có giống nhau hay \n",
    "# không; một cách đơn giản nhất là chuẩn Frobenius. Chuẩn Frobenius của 2 ma trận\n",
    "# là căn bậc hai tổng khoảng cách của tất cả các phần tử; nói cách khác, chuyển\n",
    "# ma trận về dạng vector và tính khoảng cách Euclidean của chúng.\n",
    "\n",
    "difference = np.linalg.norm(dists - dists_one, ord='fro')\n",
    "print('Difference was: %f' % (difference, ))\n",
    "if difference < 0.001:\n",
    "    print('Good! The distance matrices are the same')\n",
    "else:\n",
    "    print('Uh-oh! The distance matrices are different')"
   ]
  },
  {
   "cell_type": "code",
   "execution_count": 14,
   "metadata": {},
   "outputs": [
    {
     "name": "stdout",
     "output_type": "stream",
     "text": [
      "Difference was: 0.000000\n",
      "Good! The distance matrices are the same\n"
     ]
    }
   ],
   "source": [
    "# Bây giờ hãy cài đặt vectorize hoàn chỉnh trong computr_distances_no_loops và\n",
    "# chạy code sau:\n",
    "dists_two = classifier.compute_distances_no_loops(X_test)\n",
    "\n",
    "# kiểm tra ma trận khoảng cách có khớp với kết quả chúng ta đã tính trước đó\n",
    "# không:\n",
    "difference = np.linalg.norm(dists - dists_two, ord='fro')\n",
    "print('Difference was: %f' % (difference, ))\n",
    "if difference < 0.001:\n",
    "    print('Good! The distance matrices are the same')\n",
    "else:\n",
    "    print('Uh-oh! The distance matrices are different')"
   ]
  },
  {
   "cell_type": "code",
   "execution_count": 16,
   "metadata": {},
   "outputs": [
    {
     "name": "stdout",
     "output_type": "stream",
     "text": [
      "Two loop version took 0.022849 seconds\n",
      "One loop version took 0.000538 seconds\n",
      "No loop version took 0.000352 seconds\n"
     ]
    }
   ],
   "source": [
    "# Giờ hãy thử xem cài đặt này nhanh như thế nào\n",
    "def time_function(f, *args):\n",
    "    \"\"\"\n",
    "    Call a function f with args and return the time (in seconds) that it took to execute.\n",
    "    \"\"\"\n",
    "    import time\n",
    "    tic = time.time()\n",
    "    f(*args)\n",
    "    toc = time.time()\n",
    "    return toc - tic\n",
    "\n",
    "two_loop_time = time_function(classifier.compute_distances_two_loops, X_test)\n",
    "print('Two loop version took %f seconds' % two_loop_time)\n",
    "\n",
    "one_loop_time = time_function(classifier.compute_distances_one_loop, X_test)\n",
    "print('One loop version took %f seconds' % one_loop_time)\n",
    "\n",
    "no_loop_time = time_function(classifier.compute_distances_no_loops, X_test)\n",
    "print('No loop version took %f seconds' % no_loop_time)\n",
    "\n",
    "# bạn sẽ thấy rằng bản cài đặt fully-vectorized (no loop) nhanh hơn rất nhiều"
   ]
  },
  {
   "cell_type": "markdown",
   "metadata": {},
   "source": [
    "### Kiểm định chéo (Cross-validation)\n",
    "\n",
    "Chúng ta đã cài đặt bộ phân lớp K láng giềng gần nhất nhưng chúng ta thấy rằng k = 5 được chọn tùy ý. Chúng ta sẽ xác định giá trị tốt nhất cho siêu tham số này với kiểm định chéo."
   ]
  },
  {
   "cell_type": "code",
   "execution_count": null,
   "metadata": {},
   "outputs": [],
   "source": [
    "num_folds = 5\n",
    "k_choices = [1, 3, 5, 8, 10, 12, 15, 20, 50, 100]\n",
    "\n",
    "X_train_folds = []\n",
    "y_train_folds = []\n",
    "################################################################################\n",
    "# TODO:                                                                        #\n",
    "# Chia dữ liệu huấn luyện ra thành các nhánh. Sau khi chia, X_train_folds và   #\n",
    "# y_train_folds phải là các mảng có độ dài num_folds, với y_train_folds[i] là  #\n",
    "# là vector nhãn cho các điểm trong X_train_folds[i].                          #\n",
    "# Gợi ý: Tìm kiếm trong numpy hàm array_split.                                 #\n",
    "################################################################################\n",
    "X_train_folds = np.array_split(X_train, num_folds)\n",
    "y_train_folds = np.array_split(y_train, num_folds)\n",
    "pass\n",
    "################################################################################\n",
    "#                                 END OF YOUR CODE                             #\n",
    "################################################################################\n",
    "\n",
    "# Một từ điển chứa hiệu năng cho các giá trị khác nhau của k mà chúng ta tìm \n",
    "# được khi chạy kiểm định chéo. Sau khi chạy kiểm định chéo, k_to_accuracies[k] \n",
    "# nên là mảng có độ dài num_folds chứa các giá trị hiệu năng khác nhau mà ta \n",
    "# tìm được với các giá trị k khác nhau.\n",
    "k_to_accuracies = {}\n",
    "\n",
    "################################################################################\n",
    "# TODO:                                                                        #\n",
    "# Dùng kiểm định chéo k lần để tìm ra giá trị tốt nhất của k. Với mỗi giá trị  #\n",
    "# k, chạy thuật toán k-nearest-neighbor num_folds lần, với mỗi trường hợp sử   #\n",
    "# num_folds-1 nhánh làm tập  huấn luyện và nhánh còn lại làm tập kiểm tra.    #\n",
    "# Lưu hiệu năng cho mỗi nhánh và tất cả các giá trị k vào k_to_accuracies      #\n",
    "################################################################################\n",
    "pass\n",
    "################################################################################\n",
    "#                                 END OF YOUR CODE                             #\n",
    "################################################################################\n",
    "\n",
    "# In ra hiệu năng tính toán được\n",
    "for k in sorted(k_to_accuracies):\n",
    "    for accuracy in k_to_accuracies[k]:\n",
    "        print('k = %d, accuracy = %f' % (k, accuracy))"
   ]
  },
  {
   "cell_type": "code",
   "execution_count": null,
   "metadata": {
    "collapsed": true
   },
   "outputs": [],
   "source": [
    "# vẽ ra bản quan sát thô\n",
    "for k in k_choices:\n",
    "    accuracies = k_to_accuracies[k]\n",
    "    plt.scatter([k] * len(accuracies), accuracies)\n",
    "\n",
    "# vẽ ra đường xu hướng với thanh lỗi ứng với độ lệch chuẩn\n",
    "accuracies_mean = np.array([np.mean(v) for k,v in sorted(k_to_accuracies.items())])\n",
    "accuracies_std = np.array([np.std(v) for k,v in sorted(k_to_accuracies.items())])\n",
    "plt.errorbar(k_choices, accuracies_mean, yerr=accuracies_std)\n",
    "plt.title('Cross-validation on k')\n",
    "plt.xlabel('k')\n",
    "plt.ylabel('Cross-validation accuracy')\n",
    "plt.show()"
   ]
  },
  {
   "cell_type": "code",
   "execution_count": null,
   "metadata": {
    "collapsed": true
   },
   "outputs": [],
   "source": [
    "# Dựa trên kết quả kiểm định chéo ở trên, chọn ra giá trị k tốt nhất, huấn luyện\n",
    "# lại mô hình sử dụng toàn bộ dữ liệu huấn luyện, và kiểm tra nó trên toàn bộ \n",
    "# tập kiểm tra.\n",
    "best_k = 1\n",
    "\n",
    "classifier = KNearestNeighbor()\n",
    "classifier.train(X_train, y_train)\n",
    "y_test_pred = classifier.predict(X_test, k=best_k)\n",
    "\n",
    "# Tính ra in ra hiệu năng\n",
    "num_correct = np.sum(y_test_pred == y_test)\n",
    "accuracy = float(num_correct) / num_test\n",
    "print('Got %d / %d correct => accuracy: %f' % (num_correct, num_test, accuracy))"
   ]
  },
  {
   "cell_type": "code",
   "execution_count": null,
   "metadata": {
    "collapsed": true
   },
   "outputs": [],
   "source": []
  }
 ],
 "metadata": {
  "kernelspec": {
   "display_name": "Python 3",
   "language": "python",
   "name": "python3"
  },
  "language_info": {
   "codemirror_mode": {
    "name": "ipython",
    "version": 3
   },
   "file_extension": ".py",
   "mimetype": "text/x-python",
   "name": "python",
   "nbconvert_exporter": "python",
   "pygments_lexer": "ipython3",
   "version": "3.6.3"
  }
 },
 "nbformat": 4,
 "nbformat_minor": 2
}
